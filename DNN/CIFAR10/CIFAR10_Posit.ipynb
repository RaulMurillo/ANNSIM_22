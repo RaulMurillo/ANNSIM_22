{
  "cells": [
    {
      "cell_type": "markdown",
      "source": [
        "Prepare the repo & install Qpytorch+"
      ],
      "metadata": {
        "id": "mCOKl8ydfl67"
      }
    },
    {
      "cell_type": "code",
      "source": [
        "!pip install ninja\n",
        "!pip install qtorch-plus"
      ],
      "metadata": {
        "colab": {
          "base_uri": "https://localhost:8080/"
        },
        "id": "6XP8xOQyfS40",
        "outputId": "ea28f93c-d5e2-4e14-9666-eef13ac9e817"
      },
      "execution_count": 1,
      "outputs": [
        {
          "output_type": "stream",
          "name": "stdout",
          "text": [
            "Requirement already satisfied: ninja in /usr/local/lib/python3.7/dist-packages (1.10.2.3)\n",
            "Requirement already satisfied: qtorch-plus in /usr/local/lib/python3.7/dist-packages (0.2.0)\n",
            "Requirement already satisfied: torch>=1.5.0 in /usr/local/lib/python3.7/dist-packages (from qtorch-plus) (1.10.0+cu111)\n",
            "Requirement already satisfied: typing-extensions in /usr/local/lib/python3.7/dist-packages (from torch>=1.5.0->qtorch-plus) (3.10.0.2)\n"
          ]
        }
      ]
    },
    {
      "cell_type": "markdown",
      "metadata": {
        "id": "tfuaL3zQfL61"
      },
      "source": [
        "# CIFAR10 Low Precision Training Example in Posit P(8,2) format \n",
        "In this notebook, we present a quick example of how to simulate training a deep neural network in low precision with the Posit Extension in  QPyTorch."
      ]
    },
    {
      "cell_type": "code",
      "execution_count": 2,
      "metadata": {
        "colab": {
          "base_uri": "https://localhost:8080/"
        },
        "id": "6EkckYKMfL6_",
        "outputId": "de37eb58-356b-4137-bd3f-e53f02770236"
      },
      "outputs": [
        {
          "output_type": "stream",
          "name": "stdout",
          "text": [
            "Using /root/.cache/torch_extensions/py37_cu111 as PyTorch extensions root...\n",
            "Emitting ninja build file /root/.cache/torch_extensions/py37_cu111/quant_cpu/build.ninja...\n",
            "Building extension module quant_cpu...\n",
            "Allowing ninja to set a default number of workers... (overridable by setting the environment variable MAX_JOBS=N)\n",
            "Loading extension module quant_cpu...\n",
            "Using /root/.cache/torch_extensions/py37_cu111 as PyTorch extensions root...\n",
            "Detected CUDA files, patching ldflags\n",
            "Emitting ninja build file /root/.cache/torch_extensions/py37_cu111/quant_cuda/build.ninja...\n",
            "Building extension module quant_cuda...\n",
            "Allowing ninja to set a default number of workers... (overridable by setting the environment variable MAX_JOBS=N)\n",
            "Loading extension module quant_cuda...\n"
          ]
        }
      ],
      "source": [
        "# import useful modules\n",
        "import argparse\n",
        "import os\n",
        "import torch\n",
        "import torch.nn as nn\n",
        "import torch.nn.functional as F\n",
        "import torchvision\n",
        "import torchvision.transforms as transforms\n",
        "from qtorch_plus.quant import Quantizer, quantizer\n",
        "from qtorch_plus.optim import OptimLP\n",
        "from torch.optim import SGD\n",
        "from qtorch_plus import FloatingPoint, Posit\n",
        "from tqdm import tqdm\n",
        "import math\n",
        "import numpy as np\n",
        "import matplotlib.pyplot as plt"
      ]
    },
    {
      "cell_type": "markdown",
      "metadata": {
        "id": "iF3Zv2g_fL7H"
      },
      "source": [
        "We first load the data. In this example, we will experiment with CIFAR10."
      ]
    },
    {
      "cell_type": "code",
      "execution_count": 3,
      "metadata": {
        "colab": {
          "base_uri": "https://localhost:8080/"
        },
        "id": "w-zaP-YofL7J",
        "outputId": "a5a80d15-fd06-44bf-ed9b-f7f4dd3a0801"
      },
      "outputs": [
        {
          "output_type": "stream",
          "name": "stdout",
          "text": [
            "Files already downloaded and verified\n",
            "Files already downloaded and verified\n"
          ]
        }
      ],
      "source": [
        "# loading data\n",
        "ds = torchvision.datasets.CIFAR10\n",
        "path = os.path.join(\"./data\", \"CIFAR10\")\n",
        "transform_train = transforms.Compose([\n",
        "    transforms.RandomCrop(32, padding=4),\n",
        "    transforms.RandomHorizontalFlip(),\n",
        "    transforms.ToTensor(),\n",
        "    transforms.Normalize((0.4914, 0.4822, 0.4465), (0.2023, 0.1994, 0.2010)),\n",
        "])\n",
        "transform_test = transforms.Compose([\n",
        "    transforms.ToTensor(),\n",
        "    transforms.Normalize((0.4914, 0.4822, 0.4465), (0.2023, 0.1994, 0.2010)),\n",
        "])\n",
        "train_set = ds(path, train=True, download=True, transform=transform_train)\n",
        "test_set = ds(path, train=False, download=True, transform=transform_test)\n",
        "loaders = {\n",
        "        'train': torch.utils.data.DataLoader(\n",
        "            train_set,\n",
        "            batch_size=128,\n",
        "            shuffle=True,\n",
        "            num_workers=2,\n",
        "            pin_memory=True\n",
        "        ),\n",
        "        'test': torch.utils.data.DataLoader(\n",
        "            test_set,\n",
        "            batch_size=128,\n",
        "            num_workers=2,\n",
        "            pin_memory=True\n",
        "        )\n",
        "}"
      ]
    },
    {
      "cell_type": "markdown",
      "metadata": {
        "id": "vn0ktJZ5fL7M"
      },
      "source": [
        "We then define the quantization setting we are going to use. In particular, here we follow the setting reported in the paper \"Training Deep Neural Networks with 8-bit Floating Point Numbers\", where the authors propose to use specialized 8-bit and 16-bit floating point format."
      ]
    },
    {
      "cell_type": "code",
      "execution_count": 4,
      "metadata": {
        "id": "KLnq8o6ufL7N"
      },
      "outputs": [],
      "source": [
        "# define two floating point formats\n",
        "bit_8  = Posit(nsize=8,  es=2)\n",
        "bit_10 = Posit(nsize=10, es=2)\n",
        "bit_12 = Posit(nsize=12, es=2)\n",
        "bit_14 = Posit(nsize=14, es=2)\n",
        "bit_16 = Posit(nsize=16, es=2)\n",
        "IEEE_Half = FloatingPoint(exp=5, man=10)\n",
        "bfloat16  = FloatingPoint(exp=8, man=7 )\n",
        "# Not supported formats\n",
        "# # bit_20 = Posit(nsize=20, es=2)\n",
        "# # bit_24 = Posit(nsize=24, es=2)\n",
        "# # bit_28 = Posit(nsize=28, es=2)\n",
        "# # bit_32 = Posit(nsize=32, es=2)\n",
        "\n",
        "# define quantization functions\n",
        "weight_quant = quantizer(forward_number=bit_14,\n",
        "                        forward_rounding=\"nearest\")\n",
        "grad_quant = quantizer(forward_number=bit_14,\n",
        "                        forward_rounding=\"nearest\")\n",
        "momentum_quant = quantizer(forward_number=bit_14,\n",
        "                        forward_rounding=\"stochastic\")\n",
        "acc_quant = quantizer(forward_number=bit_14,\n",
        "                        forward_rounding=\"stochastic\")\n",
        "\n",
        "# define a lambda function so that the Quantizer module can be duplicated easily\n",
        "act_error_quant = lambda : Quantizer(forward_number=bit_14, backward_number=bit_14,\n",
        "                        forward_rounding=\"nearest\", backward_rounding=\"nearest\")\n",
        "\n",
        "\n",
        "torch.manual_seed(0)\n",
        "np.random.seed(0)"
      ]
    },
    {
      "cell_type": "markdown",
      "metadata": {
        "id": "sXgoeNcEfL7Q"
      },
      "source": [
        "Next, we define a low-precision ResNet. In the definition, we recursively insert quantization module after every convolution layer. Note that the quantization of weight, gradient, momentum, and gradient accumulator are not handled here."
      ]
    },
    {
      "cell_type": "code",
      "execution_count": 5,
      "metadata": {
        "id": "jmIhJQHEfL7R"
      },
      "outputs": [],
      "source": [
        "def conv3x3(in_planes, out_planes, stride=1):\n",
        "    return nn.Conv2d(in_planes, out_planes, kernel_size=3, stride=stride,\n",
        "                     padding=1, bias=False)\n",
        "\n",
        "class BasicBlock(nn.Module):\n",
        "    expansion = 1\n",
        "\n",
        "    def __init__(self, inplanes, planes, quant, stride=1, downsample=None):\n",
        "        super(BasicBlock, self).__init__()\n",
        "        self.bn1 = nn.BatchNorm2d(inplanes)\n",
        "        self.relu = nn.ReLU(inplace=True)\n",
        "        self.conv1 = conv3x3(inplanes, planes, stride)\n",
        "        self.bn2 = nn.BatchNorm2d(planes)\n",
        "        self.conv2 = conv3x3(planes, planes)\n",
        "        self.downsample = downsample\n",
        "        self.stride = stride\n",
        "        self.quant = quant()\n",
        "\n",
        "    def forward(self, x):\n",
        "        residual = x\n",
        "\n",
        "        out = self.bn1(x)\n",
        "        out = self.relu(out)\n",
        "        out = self.quant(out)\n",
        "        out = self.conv1(out)\n",
        "        out = self.quant(out)\n",
        "\n",
        "        out = self.bn2(out)\n",
        "        out = self.relu(out)\n",
        "        out = self.quant(out)\n",
        "        out = self.conv2(out)\n",
        "        out = self.quant(out)\n",
        "\n",
        "        if self.downsample is not None:\n",
        "            residual = self.downsample(x)\n",
        "\n",
        "        out += residual\n",
        "\n",
        "        return out\n",
        "    \n",
        "class PreResNet(nn.Module):\n",
        "\n",
        "    def __init__(self,quant, num_classes=10, depth=20):\n",
        "\n",
        "        super(PreResNet, self).__init__()\n",
        "        assert (depth - 2) % 6 == 0, 'depth should be 6n+2'\n",
        "        n = (depth - 2) // 6\n",
        "\n",
        "        block = BasicBlock\n",
        "\n",
        "        self.inplanes = 16\n",
        "        self.conv1 = nn.Conv2d(3, 16, kernel_size=3, padding=1,\n",
        "                               bias=False)\n",
        "        self.layer1 = self._make_layer(block, 16, n, quant)\n",
        "        self.layer2 = self._make_layer(block, 32, n, quant, stride=2)\n",
        "        self.layer3 = self._make_layer(block, 64, n, quant, stride=2)\n",
        "        self.bn = nn.BatchNorm2d(64 * block.expansion)\n",
        "        self.relu = nn.ReLU(inplace=True)\n",
        "        self.avgpool = nn.AvgPool2d(8)\n",
        "        self.fc = nn.Linear(64 * block.expansion, num_classes)\n",
        "        self.quant = quant()\n",
        "        IBM_half = FloatingPoint(exp=6, man=9)\n",
        "        self.quant_half = Quantizer(IBM_half, IBM_half, \"nearest\", \"nearest\")\n",
        "        for m in self.modules():\n",
        "            if isinstance(m, nn.Conv2d):\n",
        "                n = m.kernel_size[0] * m.kernel_size[1] * m.out_channels\n",
        "                m.weight.data.normal_(0, math.sqrt(2. / n))\n",
        "            elif isinstance(m, nn.BatchNorm2d):\n",
        "                m.weight.data.fill_(1)\n",
        "                m.bias.data.zero_()\n",
        "\n",
        "    def _make_layer(self, block, planes, blocks, quant, stride=1):\n",
        "        downsample = None\n",
        "        if stride != 1 or self.inplanes != planes * block.expansion:\n",
        "            downsample = nn.Sequential(\n",
        "                nn.Conv2d(self.inplanes, planes * block.expansion,\n",
        "                          kernel_size=1, stride=stride, bias=False),\n",
        "            )\n",
        "\n",
        "        layers = list()\n",
        "        layers.append(block(self.inplanes, planes, quant , stride, downsample))\n",
        "        self.inplanes = planes * block.expansion\n",
        "        for i in range(1, blocks):\n",
        "            layers.append(block(self.inplanes, planes, quant))\n",
        "\n",
        "        return nn.Sequential(*layers)\n",
        "\n",
        "    def forward(self, x):\n",
        "        x = self.quant_half(x)\n",
        "        x = self.conv1(x)\n",
        "        x = self.quant(x)\n",
        "\n",
        "        x = self.layer1(x)  # 32x32\n",
        "        x = self.layer2(x)  # 16x16\n",
        "        x = self.layer3(x)  # 8x8\n",
        "        x = self.bn(x)\n",
        "        x = self.relu(x)\n",
        "        x = self.quant(x)\n",
        "\n",
        "        x = self.avgpool(x)\n",
        "        x = x.view(x.size(0), -1)\n",
        "        x = self.fc(x)\n",
        "        x = self.quant_half(x)\n",
        "\n",
        "        return x"
      ]
    },
    {
      "cell_type": "code",
      "execution_count": 6,
      "metadata": {
        "id": "wREoKojafL7W"
      },
      "outputs": [],
      "source": [
        "model = PreResNet(act_error_quant)"
      ]
    },
    {
      "cell_type": "code",
      "execution_count": 7,
      "metadata": {
        "id": "lH1QRN3FfL7Y"
      },
      "outputs": [],
      "source": [
        "device = 'cuda' # change device to 'cpu' if you want to run this example on cpu\n",
        "model = model.to(device=device)"
      ]
    },
    {
      "cell_type": "markdown",
      "metadata": {
        "id": "lZoeGc5wfL7a"
      },
      "source": [
        "We now use the low-precision optimizer wrapper to help define the quantization of weight, gradient, momentum, and gradient accumulator."
      ]
    },
    {
      "cell_type": "code",
      "execution_count": 8,
      "metadata": {
        "id": "abwzGkgKfL7b"
      },
      "outputs": [],
      "source": [
        "optimizer = SGD(model.parameters(), lr=0.05, momentum=0.9, weight_decay=5e-4)\n",
        "optimizer = OptimLP(optimizer,\n",
        "                    weight_quant=weight_quant,\n",
        "                    grad_quant=grad_quant,\n",
        "                    momentum_quant=momentum_quant,\n",
        "                    acc_quant=acc_quant,\n",
        "                    grad_scaling=1/1000 # do gradient scaling\n",
        ")"
      ]
    },
    {
      "cell_type": "markdown",
      "metadata": {
        "id": "6ZOgyveTfL7d"
      },
      "source": [
        "We can reuse common training scripts without any extra codes to handle quantization."
      ]
    },
    {
      "cell_type": "code",
      "execution_count": 9,
      "metadata": {
        "id": "owm6OxmdfL7e"
      },
      "outputs": [],
      "source": [
        "def run_epoch(loader, model, criterion, optimizer=None, phase=\"train\"):\n",
        "    assert phase in [\"train\", \"eval\"], \"invalid running phase\"\n",
        "    loss_sum = 0.0\n",
        "    correct = 0.0\n",
        "\n",
        "    if phase==\"train\": model.train()\n",
        "    elif phase==\"eval\": model.eval()\n",
        "\n",
        "    ttl = 0\n",
        "    with torch.autograd.set_grad_enabled(phase==\"train\"):\n",
        "        for i, (input, target) in tqdm(enumerate(loader), total=len(loader)):\n",
        "            input = input.to(device=device)\n",
        "            target = target.to(device=device)\n",
        "            output = model(input)\n",
        "            loss = criterion(output, target)\n",
        "            loss_sum += loss.cpu().item() * input.size(0)\n",
        "            pred = output.data.max(1, keepdim=True)[1]\n",
        "            correct += pred.eq(target.data.view_as(pred)).sum()\n",
        "            ttl += input.size()[0]\n",
        "\n",
        "            if phase==\"train\":\n",
        "                loss = loss * 1000 # do gradient scaling\n",
        "                optimizer.zero_grad()\n",
        "                loss.backward()\n",
        "                optimizer.step()\n",
        "\n",
        "    correct = correct.cpu().item()\n",
        "    return {\n",
        "        'loss': loss_sum / float(ttl),\n",
        "        'accuracy': correct / float(ttl) * 100.0,\n",
        "    }"
      ]
    },
    {
      "cell_type": "markdown",
      "metadata": {
        "id": "F6BKZrwLfL7f"
      },
      "source": [
        "Begin the training process just as usual. Enjoy!"
      ]
    },
    {
      "cell_type": "code",
      "execution_count": 10,
      "metadata": {
        "id": "oB4kHchUfL7g"
      },
      "outputs": [],
      "source": [
        "# history = {}\n",
        "train_hist = []\n",
        "test_hist = []"
      ]
    },
    {
      "cell_type": "code",
      "execution_count": null,
      "metadata": {
        "colab": {
          "base_uri": "https://localhost:8080/"
        },
        "id": "kDt14H2ffL7i",
        "outputId": "7d28efd9-ad58-4d71-87f3-628318c99a48"
      },
      "outputs": [
        {
          "output_type": "stream",
          "name": "stdout",
          "text": [
            "Epoch 1/100\n"
          ]
        },
        {
          "output_type": "stream",
          "name": "stderr",
          "text": [
            "100%|██████████| 391/391 [01:09<00:00,  5.61it/s]"
          ]
        },
        {
          "output_type": "stream",
          "name": "stdout",
          "text": [
            "{'loss': 1.640312094039917, 'accuracy': 38.302}\n"
          ]
        },
        {
          "output_type": "stream",
          "name": "stderr",
          "text": [
            "\n",
            "100%|██████████| 79/79 [00:04<00:00, 17.78it/s]"
          ]
        },
        {
          "output_type": "stream",
          "name": "stdout",
          "text": [
            "{'loss': 1.3764759155273438, 'accuracy': 49.61}\n",
            "Epoch 2/100\n"
          ]
        },
        {
          "output_type": "stream",
          "name": "stderr",
          "text": [
            "\n",
            "100%|██████████| 391/391 [01:02<00:00,  6.30it/s]"
          ]
        },
        {
          "output_type": "stream",
          "name": "stdout",
          "text": [
            "{'loss': 1.1557023188972473, 'accuracy': 58.092}\n"
          ]
        },
        {
          "output_type": "stream",
          "name": "stderr",
          "text": [
            "\n",
            "100%|██████████| 79/79 [00:04<00:00, 17.60it/s]"
          ]
        },
        {
          "output_type": "stream",
          "name": "stdout",
          "text": [
            "{'loss': 1.5656757934570313, 'accuracy': 52.370000000000005}\n",
            "Epoch 3/100\n"
          ]
        },
        {
          "output_type": "stream",
          "name": "stderr",
          "text": [
            "\n",
            "100%|██████████| 391/391 [01:01<00:00,  6.35it/s]"
          ]
        },
        {
          "output_type": "stream",
          "name": "stdout",
          "text": [
            "{'loss': 0.9423340257072449, 'accuracy': 66.23}\n"
          ]
        },
        {
          "output_type": "stream",
          "name": "stderr",
          "text": [
            "\n",
            "100%|██████████| 79/79 [00:04<00:00, 17.34it/s]"
          ]
        },
        {
          "output_type": "stream",
          "name": "stdout",
          "text": [
            "{'loss': 1.198889020729065, 'accuracy': 61.44}\n",
            "Epoch 4/100\n"
          ]
        },
        {
          "output_type": "stream",
          "name": "stderr",
          "text": [
            "\n",
            "100%|██████████| 391/391 [01:01<00:00,  6.39it/s]"
          ]
        },
        {
          "output_type": "stream",
          "name": "stdout",
          "text": [
            "{'loss': 0.818301484413147, 'accuracy': 71.182}\n"
          ]
        },
        {
          "output_type": "stream",
          "name": "stderr",
          "text": [
            "\n",
            "100%|██████████| 79/79 [00:04<00:00, 17.57it/s]"
          ]
        },
        {
          "output_type": "stream",
          "name": "stdout",
          "text": [
            "{'loss': 0.997364167881012, 'accuracy': 66.18}\n",
            "Epoch 5/100\n"
          ]
        },
        {
          "output_type": "stream",
          "name": "stderr",
          "text": [
            "\n",
            "100%|██████████| 391/391 [01:01<00:00,  6.39it/s]"
          ]
        },
        {
          "output_type": "stream",
          "name": "stdout",
          "text": [
            "{'loss': 0.7252726057243347, 'accuracy': 74.79599999999999}\n"
          ]
        },
        {
          "output_type": "stream",
          "name": "stderr",
          "text": [
            "\n",
            "100%|██████████| 79/79 [00:04<00:00, 17.35it/s]"
          ]
        },
        {
          "output_type": "stream",
          "name": "stdout",
          "text": [
            "{'loss': 0.8518754463195801, 'accuracy': 70.54}\n",
            "Epoch 6/100\n"
          ]
        },
        {
          "output_type": "stream",
          "name": "stderr",
          "text": [
            "\n",
            "100%|██████████| 391/391 [01:01<00:00,  6.40it/s]"
          ]
        },
        {
          "output_type": "stream",
          "name": "stdout",
          "text": [
            "{'loss': 0.6696450733566284, 'accuracy': 76.67}\n"
          ]
        },
        {
          "output_type": "stream",
          "name": "stderr",
          "text": [
            "\n",
            "100%|██████████| 79/79 [00:04<00:00, 17.36it/s]"
          ]
        },
        {
          "output_type": "stream",
          "name": "stdout",
          "text": [
            "{'loss': 0.8220840803146362, 'accuracy': 73.38}\n",
            "Epoch 7/100\n"
          ]
        },
        {
          "output_type": "stream",
          "name": "stderr",
          "text": [
            "\n",
            "100%|██████████| 391/391 [01:02<00:00,  6.30it/s]"
          ]
        },
        {
          "output_type": "stream",
          "name": "stdout",
          "text": [
            "{'loss': 0.6257590180397034, 'accuracy': 78.41799999999999}\n"
          ]
        },
        {
          "output_type": "stream",
          "name": "stderr",
          "text": [
            "\n",
            "100%|██████████| 79/79 [00:04<00:00, 17.39it/s]"
          ]
        },
        {
          "output_type": "stream",
          "name": "stdout",
          "text": [
            "{'loss': 0.7958837777614594, 'accuracy': 73.95}\n",
            "Epoch 8/100\n"
          ]
        },
        {
          "output_type": "stream",
          "name": "stderr",
          "text": [
            "\n",
            "100%|██████████| 391/391 [01:01<00:00,  6.39it/s]"
          ]
        },
        {
          "output_type": "stream",
          "name": "stdout",
          "text": [
            "{'loss': 0.5919646442031861, 'accuracy': 79.456}\n"
          ]
        },
        {
          "output_type": "stream",
          "name": "stderr",
          "text": [
            "\n",
            "100%|██████████| 79/79 [00:04<00:00, 17.40it/s]"
          ]
        },
        {
          "output_type": "stream",
          "name": "stdout",
          "text": [
            "{'loss': 0.6504951283454895, 'accuracy': 77.94}\n",
            "Epoch 9/100\n"
          ]
        },
        {
          "output_type": "stream",
          "name": "stderr",
          "text": [
            "\n",
            "100%|██████████| 391/391 [01:01<00:00,  6.40it/s]"
          ]
        },
        {
          "output_type": "stream",
          "name": "stdout",
          "text": [
            "{'loss': 0.5651346210479736, 'accuracy': 80.476}\n"
          ]
        },
        {
          "output_type": "stream",
          "name": "stderr",
          "text": [
            "\n",
            "100%|██████████| 79/79 [00:04<00:00, 17.51it/s]"
          ]
        },
        {
          "output_type": "stream",
          "name": "stdout",
          "text": [
            "{'loss': 0.7357138533592225, 'accuracy': 75.92999999999999}\n",
            "Epoch 10/100\n"
          ]
        },
        {
          "output_type": "stream",
          "name": "stderr",
          "text": [
            "\n",
            "100%|██████████| 391/391 [01:01<00:00,  6.41it/s]"
          ]
        },
        {
          "output_type": "stream",
          "name": "stdout",
          "text": [
            "{'loss': 0.5516851707267761, 'accuracy': 80.97800000000001}\n"
          ]
        },
        {
          "output_type": "stream",
          "name": "stderr",
          "text": [
            "\n",
            "100%|██████████| 79/79 [00:04<00:00, 17.67it/s]"
          ]
        },
        {
          "output_type": "stream",
          "name": "stdout",
          "text": [
            "{'loss': 0.7623109951972962, 'accuracy': 74.78}\n",
            "Epoch 11/100\n"
          ]
        },
        {
          "output_type": "stream",
          "name": "stderr",
          "text": [
            "\n",
            "100%|██████████| 391/391 [01:01<00:00,  6.40it/s]"
          ]
        },
        {
          "output_type": "stream",
          "name": "stdout",
          "text": [
            "{'loss': 0.5305733765029907, 'accuracy': 81.754}\n"
          ]
        },
        {
          "output_type": "stream",
          "name": "stderr",
          "text": [
            "\n",
            "100%|██████████| 79/79 [00:04<00:00, 17.38it/s]"
          ]
        },
        {
          "output_type": "stream",
          "name": "stdout",
          "text": [
            "{'loss': 0.6303235356330872, 'accuracy': 78.97}\n",
            "Epoch 12/100\n"
          ]
        },
        {
          "output_type": "stream",
          "name": "stderr",
          "text": [
            "\n",
            "100%|██████████| 391/391 [01:00<00:00,  6.42it/s]"
          ]
        },
        {
          "output_type": "stream",
          "name": "stdout",
          "text": [
            "{'loss': 0.5135579174041748, 'accuracy': 82.37}\n"
          ]
        },
        {
          "output_type": "stream",
          "name": "stderr",
          "text": [
            "\n",
            "100%|██████████| 79/79 [00:04<00:00, 17.78it/s]"
          ]
        },
        {
          "output_type": "stream",
          "name": "stdout",
          "text": [
            "{'loss': 0.7013157818317414, 'accuracy': 76.41}\n",
            "Epoch 13/100\n"
          ]
        },
        {
          "output_type": "stream",
          "name": "stderr",
          "text": [
            "\n",
            "100%|██████████| 391/391 [01:00<00:00,  6.43it/s]"
          ]
        },
        {
          "output_type": "stream",
          "name": "stdout",
          "text": [
            "{'loss': 0.49977730410575866, 'accuracy': 82.72}\n"
          ]
        },
        {
          "output_type": "stream",
          "name": "stderr",
          "text": [
            "\n",
            "100%|██████████| 79/79 [00:04<00:00, 17.73it/s]"
          ]
        },
        {
          "output_type": "stream",
          "name": "stdout",
          "text": [
            "{'loss': 0.7408530317306519, 'accuracy': 77.09}\n",
            "Epoch 14/100\n"
          ]
        },
        {
          "output_type": "stream",
          "name": "stderr",
          "text": [
            "\n",
            " 57%|█████▋    | 221/391 [00:34<00:26,  6.49it/s]"
          ]
        }
      ],
      "source": [
        "EPOCHS=100\n",
        "for epoch in range(EPOCHS):\n",
        "    print(f\"Epoch {epoch+1}/{EPOCHS}\")\n",
        "    train_res = run_epoch(loaders['train'], model, F.cross_entropy,\n",
        "                                optimizer=optimizer, phase=\"train\")\n",
        "    train_hist += [train_res]\n",
        "    print(train_res)\n",
        "    test_res = run_epoch(loaders['test'], model, F.cross_entropy,\n",
        "                                optimizer=optimizer, phase=\"eval\")\n",
        "    test_hist += [test_res]\n",
        "    print(test_res)"
      ]
    },
    {
      "cell_type": "code",
      "execution_count": null,
      "metadata": {
        "id": "JnVKqaSdfL7j"
      },
      "outputs": [],
      "source": [
        "train_res, test_res"
      ]
    },
    {
      "cell_type": "code",
      "execution_count": null,
      "metadata": {
        "id": "krMV1jfGfL7l"
      },
      "outputs": [],
      "source": [
        "# Plotted the accuracy Graph\n",
        "def plot_accuracies(train, test=None):\n",
        "    accuracies = [x['accuracy'] for x in train]\n",
        "    plt.plot(accuracies, label='Train')\n",
        "    if test is not None:\n",
        "        accuracies_test = [x['accuracy'] for x in test]\n",
        "        plt.plot(accuracies_test, label='Test')\n",
        "        plt.legend()\n",
        "    plt.xlabel('epoch')\n",
        "    plt.ylabel('accuracy')\n",
        "    plt.title('Accuracy vs. No. of epochs');"
      ]
    },
    {
      "cell_type": "code",
      "execution_count": null,
      "metadata": {
        "id": "6HuVWTjxfL7m"
      },
      "outputs": [],
      "source": [
        "# Plotted the accuracy Graph\n",
        "def plot_losses(train, test=None):\n",
        "    accuracies = [x['loss'] for x in train]\n",
        "    plt.plot(accuracies, label='Train')\n",
        "    if test is not None:\n",
        "        accuracies_test = [x['loss'] for x in test]\n",
        "        plt.plot(accuracies_test, label='Test')\n",
        "        plt.legend()\n",
        "    plt.xlabel('epoch')\n",
        "    plt.ylabel('loss')\n",
        "    plt.title('Loss vs. No. of epochs');"
      ]
    },
    {
      "cell_type": "code",
      "execution_count": null,
      "metadata": {
        "id": "Bg-4nLftfL7o"
      },
      "outputs": [],
      "source": [
        "plot_accuracies(train_hist, test_hist)"
      ]
    },
    {
      "cell_type": "code",
      "source": [
        "plot_losses(train_hist, test_hist)"
      ],
      "metadata": {
        "id": "d4TZtGz3CMnP"
      },
      "execution_count": null,
      "outputs": []
    },
    {
      "cell_type": "code",
      "source": [
        "import json\n",
        "\n",
        "with open('train.hist', 'w') as fout:\n",
        "    json.dump(train_hist, fout)\n",
        "\n",
        "with open('test.hist', 'w') as fout:\n",
        "    json.dump(test_hist, fout)\n",
        "\n",
        "\n",
        "# with open('train.hist', 'r') as f_in:\n",
        "#     train_hist = json.load(f_in)\n",
        "\n",
        "# with open('test.hist', 'r') as fout:\n",
        "#     test_hist = json.load(f_in)"
      ],
      "metadata": {
        "id": "mz1kNXzdEHR2"
      },
      "execution_count": null,
      "outputs": []
    }
  ],
  "metadata": {
    "kernelspec": {
      "display_name": "Python 3",
      "language": "python",
      "name": "python3"
    },
    "language_info": {
      "codemirror_mode": {
        "name": "ipython",
        "version": 3
      },
      "file_extension": ".py",
      "mimetype": "text/x-python",
      "name": "python",
      "nbconvert_exporter": "python",
      "pygments_lexer": "ipython3",
      "version": "3.8.6"
    },
    "colab": {
      "name": "CIFAR10_Posit.ipynb",
      "provenance": [],
      "collapsed_sections": []
    },
    "accelerator": "GPU"
  },
  "nbformat": 4,
  "nbformat_minor": 0
}